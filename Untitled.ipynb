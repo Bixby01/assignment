{
 "cells": [
  {
   "cell_type": "code",
   "execution_count": 1,
   "id": "ca998a4b",
   "metadata": {
    "scrolled": true
   },
   "outputs": [
    {
     "name": "stdout",
     "output_type": "stream",
     "text": [
      "<class 'tuple'>\n",
      "<class 'tuple'>\n"
     ]
    }
   ],
   "source": [
    "fruits = ('BANANA','APPLE','PEAR')\n",
    "vegetable = ('tomato','patato','cauliflower')\n",
    "print(type(fruits))\n",
    "print(type(vegetable))"
   ]
  },
  {
   "cell_type": "code",
   "execution_count": 14,
   "id": "80aff5c5",
   "metadata": {},
   "outputs": [
    {
     "name": "stdout",
     "output_type": "stream",
     "text": [
      "('BANANA', 'APPLE', 'PEAR', 'tomato', 'patato', 'cauliflower')\n"
     ]
    }
   ],
   "source": [
    "fruits_vegetable = fruits+vegetable\n",
    "print(fruits_vegetable)"
   ]
  },
  {
   "cell_type": "code",
   "execution_count": 13,
   "id": "d2b853eb",
   "metadata": {},
   "outputs": [
    {
     "name": "stdout",
     "output_type": "stream",
     "text": [
      "6\n"
     ]
    }
   ],
   "source": [
    "print(len(fruits_vegetable))"
   ]
  },
  {
   "cell_type": "code",
   "execution_count": 8,
   "id": "75bf42a8",
   "metadata": {},
   "outputs": [
    {
     "name": "stdout",
     "output_type": "stream",
     "text": [
      "('BANANA', 'APPLE', 'PEAR', 'tomato', 'patato', 'cauliflower', 'lentinula edodes', 'COLA')\n"
     ]
    }
   ],
   "source": [
    "favorite_mushroom =('lentinula edodes',)\n",
    "favorite_beverage = ( 'COLA',)\n",
    "food_tuple = fruits_vegetable+favorite_mushroom+favorite_beverage\n",
    "print(food_tuple)"
   ]
  },
  {
   "cell_type": "code",
   "execution_count": 12,
   "id": "960d5015",
   "metadata": {},
   "outputs": [
    {
     "name": "stdout",
     "output_type": "stream",
     "text": [
      "('BANANA', 'APPLE', 'PEAR', 'tomato', 'patato', 'cauliflower')\n",
      "lentinula edodes\n",
      "COLA\n"
     ]
    }
   ],
   "source": [
    "fruits_vegetable = food_tuple[0:6]\n",
    "favorite_mushroom =food_tuple[-2]\n",
    "favorite_beverage =food_tuple[-1]\n",
    "print(fruits_vegetable)\n",
    "print(favorite_mushroom)\n",
    "print(favorite_beverage)\n"
   ]
  },
  {
   "cell_type": "code",
   "execution_count": 15,
   "id": "5c72b499",
   "metadata": {},
   "outputs": [
    {
     "name": "stdout",
     "output_type": "stream",
     "text": [
      "['BANANA', 'APPLE', 'PEAR', 'tomato', 'patato', 'cauliflower', 'lentinula edodes', 'COLA']\n"
     ]
    }
   ],
   "source": [
    "food_list = list(food_tuple)\n",
    "print(food_list)"
   ]
  },
  {
   "cell_type": "code",
   "execution_count": 17,
   "id": "211b88f1",
   "metadata": {},
   "outputs": [
    {
     "name": "stdout",
     "output_type": "stream",
     "text": [
      "('tomato', 'patato')\n"
     ]
    }
   ],
   "source": [
    "print(food_tuple[3:5])"
   ]
  },
  {
   "cell_type": "code",
   "execution_count": 22,
   "id": "7eed192e",
   "metadata": {},
   "outputs": [
    {
     "name": "stdout",
     "output_type": "stream",
     "text": [
      "['cauliflower', 'lentinula edodes', 'COLA']\n",
      "['BANANA', 'APPLE', 'PEAR']\n"
     ]
    }
   ],
   "source": [
    "print(food_list[-3:])\n",
    "print(food_list[:3])"
   ]
  },
  {
   "cell_type": "code",
   "execution_count": 23,
   "id": "5f3a2180",
   "metadata": {},
   "outputs": [],
   "source": [
    "del food_tuple"
   ]
  },
  {
   "cell_type": "code",
   "execution_count": 24,
   "id": "f8c99194",
   "metadata": {},
   "outputs": [],
   "source": [
    "asian_countries = ('India','China','Singapore','Thailand','Indonesia')"
   ]
  },
  {
   "cell_type": "code",
   "execution_count": 25,
   "id": "a10aa18e",
   "metadata": {},
   "outputs": [
    {
     "name": "stdout",
     "output_type": "stream",
     "text": [
      "False\n",
      "True\n"
     ]
    }
   ],
   "source": [
    "print('Finland' in asian_countries)     \n",
    "print('India' in asian_countries)     "
   ]
  },
  {
   "cell_type": "code",
   "execution_count": null,
   "id": "ac3e0db1",
   "metadata": {},
   "outputs": [],
   "source": []
  }
 ],
 "metadata": {
  "kernelspec": {
   "display_name": "Python 3",
   "language": "python",
   "name": "python3"
  },
  "language_info": {
   "codemirror_mode": {
    "name": "ipython",
    "version": 3
   },
   "file_extension": ".py",
   "mimetype": "text/x-python",
   "name": "python",
   "nbconvert_exporter": "python",
   "pygments_lexer": "ipython3",
   "version": "3.8.8"
  },
  "toc": {
   "base_numbering": 1,
   "nav_menu": {},
   "number_sections": true,
   "sideBar": true,
   "skip_h1_title": false,
   "title_cell": "Table of Contents",
   "title_sidebar": "Contents",
   "toc_cell": false,
   "toc_position": {},
   "toc_section_display": true,
   "toc_window_display": false
  }
 },
 "nbformat": 4,
 "nbformat_minor": 5
}
