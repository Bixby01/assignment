{
 "cells": [
  {
   "cell_type": "code",
   "execution_count": 15,
   "id": "cb25f745",
   "metadata": {},
   "outputs": [
    {
     "name": "stdout",
     "output_type": "stream",
     "text": [
      "7\n",
      "{'Orange', 'Apple', 'Pear', 'Banana', 'Guava', 'Fig', 'Mango'}\n",
      "{'Orange', 'Apple', 'Pear', 'Banana', 'Kiwi', 'Guava', 'Fig', 'Mango'}\n"
     ]
    }
   ],
   "source": [
    "mix_fruits = {'Guava', 'Pear', 'Mango', 'Apple', 'Fig', 'Orange', 'Banana'}\n",
    "A = {19, 22, 24, 20, 25, 26}\n",
    "B = {19, 22, 20, 25, 26, 24, 28, 27}\n",
    "num = [22, 19, 24, 25, 26, 24, 25, 24]\n",
    "a=len(mix_fruits)\n",
    "print(a)\n",
    "print(mix_fruits)\n",
    "mix_fruits.add(\"Kiwi\")\n",
    "print(mix_fruits)"
   ]
  },
  {
   "cell_type": "code",
   "execution_count": 16,
   "id": "282e3860",
   "metadata": {},
   "outputs": [],
   "source": [
    "fruits_set={'passionfruit','tangerine'}\n",
    "mix_fruits.update(['passionfruit','tangerine'])\n",
    "mix_fruits=mix_fruits.discard('Apple')"
   ]
  },
  {
   "cell_type": "code",
   "execution_count": 17,
   "id": "d2957e2b",
   "metadata": {},
   "outputs": [
    {
     "name": "stdout",
     "output_type": "stream",
     "text": [
      "{1, 2, 3, 4, 5, 6, 7, 8}\n",
      "{1, 2, 3, 4, 5, 6, 7, 8}\n",
      "{4, 5}\n",
      "False\n",
      "False\n",
      "False\n",
      "{1, 2, 3, 6, 7, 8}\n",
      "{19, 22, 24, 25, 26}\n"
     ]
    }
   ],
   "source": [
    "A = {1,2,3,4,5}\n",
    "B = {4,5,6,7,8}\n",
    "print(A|B)\n",
    "print(B|A)\n",
    "print(A&B)\n",
    "print(A.issubset(B))\n",
    "print(B.issubset(A))\n",
    "print(A.isdisjoint(B))\n",
    "print(A^B)\n",
    "num=set(num)\n",
    "print(num)"
   ]
  },
  {
   "cell_type": "code",
   "execution_count": 19,
   "id": "1e833db9",
   "metadata": {},
   "outputs": [
    {
     "name": "stdout",
     "output_type": "stream",
     "text": [
      "{'them', 'enemy', 'you', 'fight', 'and', 'can', 'hundred', 'battles', 'all.', 'yourself', 'the', 'win', 'a', 'Knowing'}\n"
     ]
    }
   ],
   "source": [
    "string=\"Knowing the enemy and yourself you can fight a hundred battles and win them all.\"\n",
    "a=string.split()\n",
    "print(set(a))"
   ]
  },
  {
   "cell_type": "code",
   "execution_count": null,
   "id": "fe17b4ed",
   "metadata": {},
   "outputs": [],
   "source": []
  }
 ],
 "metadata": {
  "kernelspec": {
   "display_name": "Python 3 (ipykernel)",
   "language": "python",
   "name": "python3"
  },
  "language_info": {
   "codemirror_mode": {
    "name": "ipython",
    "version": 3
   },
   "file_extension": ".py",
   "mimetype": "text/x-python",
   "name": "python",
   "nbconvert_exporter": "python",
   "pygments_lexer": "ipython3",
   "version": "3.9.7"
  }
 },
 "nbformat": 4,
 "nbformat_minor": 5
}
