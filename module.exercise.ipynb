{
 "cells": [
  {
   "cell_type": "code",
   "execution_count": 13,
   "id": "f33bd81d",
   "metadata": {},
   "outputs": [
    {
     "name": "stdout",
     "output_type": "stream",
     "text": [
      "295180\n"
     ]
    }
   ],
   "source": [
    "import random\n",
    "import string\n",
    "def random_user_id():\n",
    "    return ''.join(random.sample(string.digits,6))\n",
    "print(random_user_id())"
   ]
  },
  {
   "cell_type": "code",
   "execution_count": 14,
   "id": "414f217c",
   "metadata": {
    "scrolled": true
   },
   "outputs": [
    {
     "name": "stdout",
     "output_type": "stream",
     "text": [
      "pls enter how many ID u want5\n",
      "pls enter how many letters u want in the single ID5\n",
      "cKp2y\n",
      "IjpA6\n",
      "gdhqw\n",
      "j7H0s\n",
      "MChDy\n"
     ]
    }
   ],
   "source": [
    "a=int(input(\"pls enter how many ID u want\"))\n",
    "b=int(input(\"pls enter how many letters u want in the single ID\"))\n",
    "def user_id_gen_by_user():\n",
    "    c=[random.sample(string.ascii_letters + string.digits, b) for i in range(a)]\n",
    "    for l in c:\n",
    "        print(''.join(l))\n",
    "user_id_gen_by_user()"
   ]
  },
  {
   "cell_type": "code",
   "execution_count": 15,
   "id": "e64fc303",
   "metadata": {},
   "outputs": [
    {
     "name": "stdout",
     "output_type": "stream",
     "text": [
      "pls enter how many ID u want5\n",
      "pls enter how many letters u want in the single ID16\n",
      "BK4PQZy3cgmizREY\n",
      "wTiWog5VPdca476Y\n",
      "NxQpz8ujYW7yAiXB\n",
      "U15cWQZj2JkX3imw\n",
      "0BmTKPk7glz1QXjp\n"
     ]
    }
   ],
   "source": [
    "a=int(input(\"pls enter how many ID u want\"))\n",
    "b=int(input(\"pls enter how many letters u want in the single ID\"))\n",
    "def user_id_gen_by_user():\n",
    "    c=[random.sample(string.ascii_letters + string.digits, b) for i in range(a)]\n",
    "    for l in c:\n",
    "        print(''.join(l))\n",
    "user_id_gen_by_user()"
   ]
  },
  {
   "cell_type": "code",
   "execution_count": 16,
   "id": "ca2f0405",
   "metadata": {},
   "outputs": [
    {
     "name": "stdout",
     "output_type": "stream",
     "text": [
      "[251, 228, 66]\n"
     ]
    }
   ],
   "source": [
    "def rgb_color_gen():\n",
    "    return [random.randint(0,255),random.randint(0,255),random.randint(0,255)]\n",
    "print(rgb_color_gen())"
   ]
  },
  {
   "cell_type": "code",
   "execution_count": 24,
   "id": "567ad427",
   "metadata": {},
   "outputs": [
    {
     "name": "stdout",
     "output_type": "stream",
     "text": [
      "#697521\n"
     ]
    }
   ],
   "source": [
    "def list_of_hexa_colors():\n",
    "    letter=['1','2','3','4','5','6','7','8','9','0','a','b','c','d','e','f']\n",
    "    hex=\"#\"+''.join(random.sample(letter,6))\n",
    "    return hex\n",
    "print(list_of_hexa_colors())"
   ]
  },
  {
   "cell_type": "code",
   "execution_count": 18,
   "id": "71c91be9",
   "metadata": {},
   "outputs": [
    {
     "name": "stdout",
     "output_type": "stream",
     "text": [
      "(195, 41, 111)\n"
     ]
    }
   ],
   "source": [
    "def list_of_rgb_colors():\n",
    "    return(random.randint(0,255),random.randint(0,255),random.randint(0,255))\n",
    "print(list_of_rgb_colors())"
   ]
  },
  {
   "cell_type": "code",
   "execution_count": 19,
   "id": "bb74d491",
   "metadata": {},
   "outputs": [
    {
     "name": "stdout",
     "output_type": "stream",
     "text": [
      "['#75b38c', '#dc1273', '#2a38e0']\n",
      "['#8c350e']\n",
      "[(119, 139, 224)]\n",
      "[(161, 31, 184), (229, 51, 4), (128, 89, 119)]\n"
     ]
    }
   ],
   "source": [
    "def generate_colors(input,times):\n",
    "    list=[]\n",
    "    if input == 'hexa':\n",
    "        while times != 0:\n",
    "            list.append(list_of_hexa_colors())\n",
    "            times-=1\n",
    "        return list\n",
    "    elif input =='rgb':\n",
    "        while times != 0:\n",
    "            list.append(list_of_rgb_colors())\n",
    "            times -= 1\n",
    "        return list\n",
    "    else:\n",
    "        print(\"error\")\n",
    "print(generate_colors('hexa',3))\n",
    "print(generate_colors('hexa',1))\n",
    "print(generate_colors('rgb',1))\n",
    "print(generate_colors('rgb',3))"
   ]
  },
  {
   "cell_type": "code",
   "execution_count": 20,
   "id": "5bba5087",
   "metadata": {},
   "outputs": [
    {
     "name": "stdout",
     "output_type": "stream",
     "text": [
      "['0', '6', '5', '8', '2', '1']\n"
     ]
    }
   ],
   "source": [
    "def shuffle_list(seq) :\n",
    "    return random.shuffle(seq)\n",
    "\n",
    "def func():\n",
    "    num = [\"1\", \"2\", \"3\", \"4\", \"5\", \"6\", \"7\", \"8\", \"9\", \"0\"]\n",
    "    return random.sample(num,6)\n",
    "print(func())"
   ]
  },
  {
   "cell_type": "code",
   "execution_count": null,
   "id": "465783dd",
   "metadata": {},
   "outputs": [],
   "source": []
  }
 ],
 "metadata": {
  "kernelspec": {
   "display_name": "Python 3 (ipykernel)",
   "language": "python",
   "name": "python3"
  },
  "language_info": {
   "codemirror_mode": {
    "name": "ipython",
    "version": 3
   },
   "file_extension": ".py",
   "mimetype": "text/x-python",
   "name": "python",
   "nbconvert_exporter": "python",
   "pygments_lexer": "ipython3",
   "version": "3.9.7"
  }
 },
 "nbformat": 4,
 "nbformat_minor": 5
}
