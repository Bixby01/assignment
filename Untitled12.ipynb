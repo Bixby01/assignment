{
 "cells": [
  {
   "cell_type": "code",
   "execution_count": 13,
   "id": "abe82c35",
   "metadata": {},
   "outputs": [
    {
     "name": "stdout",
     "output_type": "stream",
     "text": [
      "23\n"
     ]
    }
   ],
   "source": [
    "age = 23\n",
    "myage = int(age)\n",
    "print(myage)"
   ]
  },
  {
   "cell_type": "code",
   "execution_count": 14,
   "id": "2b12c922",
   "metadata": {},
   "outputs": [
    {
     "name": "stdout",
     "output_type": "stream",
     "text": [
      "1.75\n"
     ]
    }
   ],
   "source": [
    "height = 1.75\n",
    "myheight = float(height)\n",
    "print(myheight)"
   ]
  },
  {
   "cell_type": "code",
   "execution_count": 15,
   "id": "334ebbaf",
   "metadata": {},
   "outputs": [
    {
     "name": "stdout",
     "output_type": "stream",
     "text": [
      "<class 'complex'>\n"
     ]
    }
   ],
   "source": [
    "complexNum = 4+3j\n",
    "print(type(complexNum))"
   ]
  },
  {
   "cell_type": "code",
   "execution_count": 16,
   "id": "210bf4c0",
   "metadata": {},
   "outputs": [
    {
     "name": "stdout",
     "output_type": "stream",
     "text": [
      "plz input base:20\n",
      "plz input height:10\n",
      "100\n"
     ]
    }
   ],
   "source": [
    "base =int(input(\"plz input base:\"))\n",
    "height = int(input(\"plz input height:\"))\n",
    "area = 0.5*base*height\n",
    "print(int(area))"
   ]
  },
  {
   "cell_type": "code",
   "execution_count": 17,
   "id": "df520ed4",
   "metadata": {},
   "outputs": [
    {
     "name": "stdout",
     "output_type": "stream",
     "text": [
      "plz input side a:5\n",
      "plz input side b:4\n",
      "plz input side c:3\n",
      "12\n"
     ]
    }
   ],
   "source": [
    "sda =int(input(\"plz input side a:\"))\n",
    "sdb = int(input(\"plz input side b:\"))\n",
    "sdc = int(input(\"plz input side c:\"))\n",
    "perimeter = sda+sdb+sdc\n",
    "print(int(perimeter))"
   ]
  },
  {
   "cell_type": "code",
   "execution_count": 18,
   "id": "83144fab",
   "metadata": {},
   "outputs": [
    {
     "name": "stdout",
     "output_type": "stream",
     "text": [
      "The perimeter =12,side a =5,side b =4\n",
      "plz input the length of side c 7\n",
      "28\n"
     ]
    }
   ],
   "source": [
    "print('The perimeter =12,side a =5,side b =4')\n",
    "sidec = int(input('plz input the length of side c '))\n",
    "area = sidec*4\n",
    "print(area)"
   ]
  },
  {
   "cell_type": "code",
   "execution_count": 19,
   "id": "fd6f2af0",
   "metadata": {},
   "outputs": [
    {
     "name": "stdout",
     "output_type": "stream",
     "text": [
      "plz input the radius 6\n",
      "958\n",
      "37\n"
     ]
    }
   ],
   "source": [
    "radius = int(input('plz input the radius '))\n",
    "area = 3.14**radius\n",
    "circumference = 2*3.14*radius\n",
    "print(int(area))\n",
    "print(int(circumference))"
   ]
  },
  {
   "cell_type": "code",
   "execution_count": 20,
   "id": "4905240b",
   "metadata": {},
   "outputs": [
    {
     "name": "stdout",
     "output_type": "stream",
     "text": [
      "8\n"
     ]
    }
   ],
   "source": [
    "import numpy as np\n",
    "import math\n",
    "p1=np.array([2,2])\n",
    "p2=np.array([6,10])\n",
    "p3=p2-p1\n",
    "p4=math.hypot(p3[0],p3[1])\n",
    "print(int(p4))"
   ]
  },
  {
   "cell_type": "code",
   "execution_count": 21,
   "id": "de912633",
   "metadata": {},
   "outputs": [
    {
     "name": "stdout",
     "output_type": "stream",
     "text": [
      "2\n"
     ]
    }
   ],
   "source": [
    "p1 = [2, 2]\n",
    "p2 = [6, 10] \n",
    "slope = abs((p1[1] - p2[1]) / (p1[0] - p2[0] + 1e-5)) \n",
    "print(int(slope))"
   ]
  },
  {
   "cell_type": "code",
   "execution_count": 22,
   "id": "338e1ea0",
   "metadata": {},
   "outputs": [
    {
     "name": "stdout",
     "output_type": "stream",
     "text": [
      "[-3]\n"
     ]
    }
   ],
   "source": [
    "from sympy import *\n",
    "x = symbols('x')\n",
    "print(solve(6*x+x*x+9,x))"
   ]
  },
  {
   "cell_type": "code",
   "execution_count": 23,
   "id": "9194c1ba",
   "metadata": {},
   "outputs": [
    {
     "data": {
      "text/plain": [
       "6"
      ]
     },
     "execution_count": 23,
     "metadata": {},
     "output_type": "execute_result"
    }
   ],
   "source": [
    "len(str('python'))"
   ]
  },
  {
   "cell_type": "code",
   "execution_count": 24,
   "id": "05282192",
   "metadata": {},
   "outputs": [
    {
     "data": {
      "text/plain": [
       "11"
      ]
     },
     "execution_count": 24,
     "metadata": {},
     "output_type": "execute_result"
    }
   ],
   "source": [
    "len(str('datascience'))"
   ]
  },
  {
   "cell_type": "code",
   "execution_count": 25,
   "id": "03db0729",
   "metadata": {},
   "outputs": [
    {
     "data": {
      "text/plain": [
       "False"
      ]
     },
     "execution_count": 25,
     "metadata": {},
     "output_type": "execute_result"
    }
   ],
   "source": [
    "len(str('python'))>len(str('datascience'))"
   ]
  },
  {
   "cell_type": "code",
   "execution_count": 26,
   "id": "7dc92b38",
   "metadata": {},
   "outputs": [
    {
     "name": "stdout",
     "output_type": "stream",
     "text": [
      "true\n"
     ]
    }
   ],
   "source": [
    "a = 'I hope this course is not full of jargon.'\n",
    "if 'jargon' in a:\n",
    "    print('true')\n",
    "else:\n",
    "    print(flase)"
   ]
  },
  {
   "cell_type": "code",
   "execution_count": 27,
   "id": "a6dd0fb8",
   "metadata": {},
   "outputs": [
    {
     "name": "stdout",
     "output_type": "stream",
     "text": [
      "6.0\n"
     ]
    }
   ],
   "source": [
    "print(str(float(len(str('python')))))"
   ]
  },
  {
   "cell_type": "code",
   "execution_count": 28,
   "id": "a5d9bea9",
   "metadata": {},
   "outputs": [
    {
     "name": "stdout",
     "output_type": "stream",
     "text": [
      "?:2\n",
      "even\n"
     ]
    }
   ],
   "source": [
    "num =int( input('?:'))\n",
    "if num % 2 == 0:\n",
    "    print('even')\n",
    "\n",
    "else:\n",
    "     print('odd')\n",
    "\n"
   ]
  },
  {
   "cell_type": "code",
   "execution_count": 29,
   "id": "7a87c8ce",
   "metadata": {},
   "outputs": [
    {
     "data": {
      "text/plain": [
       "False"
      ]
     },
     "execution_count": 29,
     "metadata": {},
     "output_type": "execute_result"
    }
   ],
   "source": [
    "7/3 ==2.7"
   ]
  },
  {
   "cell_type": "code",
   "execution_count": 30,
   "id": "834f8dec",
   "metadata": {},
   "outputs": [
    {
     "data": {
      "text/plain": [
       "False"
      ]
     },
     "execution_count": 30,
     "metadata": {},
     "output_type": "execute_result"
    }
   ],
   "source": [
    "type('10') == type(10)"
   ]
  },
  {
   "cell_type": "code",
   "execution_count": null,
   "id": "0545207f",
   "metadata": {},
   "outputs": [],
   "source": []
  }
 ],
 "metadata": {
  "kernelspec": {
   "display_name": "Python 3 (ipykernel)",
   "language": "python",
   "name": "python3"
  },
  "language_info": {
   "codemirror_mode": {
    "name": "ipython",
    "version": 3
   },
   "file_extension": ".py",
   "mimetype": "text/x-python",
   "name": "python",
   "nbconvert_exporter": "python",
   "pygments_lexer": "ipython3",
   "version": "3.9.7"
  },
  "toc": {
   "base_numbering": 1,
   "nav_menu": {},
   "number_sections": true,
   "sideBar": true,
   "skip_h1_title": false,
   "title_cell": "Table of Contents",
   "title_sidebar": "Contents",
   "toc_cell": false,
   "toc_position": {},
   "toc_section_display": true,
   "toc_window_display": false
  }
 },
 "nbformat": 4,
 "nbformat_minor": 5
}
