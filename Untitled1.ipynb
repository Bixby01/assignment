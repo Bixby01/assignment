{
 "cells": [
  {
   "cell_type": "code",
   "execution_count": 1,
   "id": "f784fd0c",
   "metadata": {},
   "outputs": [
    {
     "name": "stdout",
     "output_type": "stream",
     "text": [
      "('lettuce', 'broccoli', 'spinach', 'shallot', 'avocado', 'passion fruit', 'tangerine', 'kiwi')\n"
     ]
    }
   ],
   "source": [
    "vegetables='lettuce','broccoli','spinach','shallot'\n",
    "fruits='avocado','passion fruit','tangerine','kiwi'\n",
    "fruit_vegetable=vegetables+fruits\n",
    "print(fruit_vegetable)"
   ]
  },
  {
   "cell_type": "code",
   "execution_count": 2,
   "id": "616b977a",
   "metadata": {},
   "outputs": [
    {
     "name": "stdout",
     "output_type": "stream",
     "text": [
      "8\n"
     ]
    }
   ],
   "source": [
    "num=len(fruit_vegetable)\n",
    "print(num)"
   ]
  },
  {
   "cell_type": "code",
   "execution_count": 3,
   "id": "adc315d4",
   "metadata": {},
   "outputs": [
    {
     "name": "stdout",
     "output_type": "stream",
     "text": [
      "('lettuce', 'broccoli', 'spinach', 'shallot', 'avocado', 'passion fruit', 'tangerine', 'kiwi', 'needle murshroom', 'yoghourt')\n"
     ]
    }
   ],
   "source": [
    "food_tuple=fruit_vegetable+('needle murshroom',\"yoghourt\",)\n",
    "print(food_tuple)"
   ]
  },
  {
   "cell_type": "code",
   "execution_count": 4,
   "id": "5c5a2764",
   "metadata": {},
   "outputs": [
    {
     "name": "stdout",
     "output_type": "stream",
     "text": [
      "needle murshroom yoghourt\n"
     ]
    }
   ],
   "source": [
    "(a,b,c,d,e,f,g,h,i,j)=food_tuple\n",
    "print(i,j)"
   ]
  },
  {
   "cell_type": "code",
   "execution_count": 5,
   "id": "f793e2bc",
   "metadata": {},
   "outputs": [
    {
     "name": "stdout",
     "output_type": "stream",
     "text": [
      "('avocado', 'passion fruit')\n",
      "['broccoli', 'avocado', 'kiwi']\n",
      "['lettuce', 'broccoli', 'spinach', 'shallot']\n",
      "['tangerine', 'kiwi', 'needle murshroom']\n"
     ]
    }
   ],
   "source": [
    "food_list=list(food_tuple)\n",
    "i=food_tuple[4:6]\n",
    "print(i)\n",
    "j=food_list[1:8:3]\n",
    "print(j)\n",
    "k=food_list[:4]\n",
    "l=food_list[-4:-1]\n",
    "print(k)\n",
    "print(l)"
   ]
  },
  {
   "cell_type": "code",
   "execution_count": 6,
   "id": "91acb195",
   "metadata": {},
   "outputs": [
    {
     "name": "stdout",
     "output_type": "stream",
     "text": [
      "('lettuce', 'broccoli', 'spinach', 'shallot', 'avocado', 'passion fruit', 'tangerine', 'kiwi')\n"
     ]
    }
   ],
   "source": [
    "del food_tuple\n",
    "vegetables='lettuce','broccoli','spinach','shallot'\n",
    "fruits='avocado','passion fruit','tangerine','kiwi'\n",
    "fruit_vegetable=vegetables+fruits\n",
    "print(fruit_vegetable)"
   ]
  },
  {
   "cell_type": "code",
   "execution_count": 7,
   "id": "72f5c543",
   "metadata": {},
   "outputs": [
    {
     "name": "stdout",
     "output_type": "stream",
     "text": [
      "8\n"
     ]
    }
   ],
   "source": [
    "num=len(fruit_vegetable)\n",
    "print(num)"
   ]
  },
  {
   "cell_type": "code",
   "execution_count": 8,
   "id": "b261e221",
   "metadata": {},
   "outputs": [
    {
     "name": "stdout",
     "output_type": "stream",
     "text": [
      "('lettuce', 'broccoli', 'spinach', 'shallot', 'avocado', 'passion fruit', 'tangerine', 'kiwi', 'needle murshroom', 'yoghourt')\n"
     ]
    }
   ],
   "source": [
    "food_tuple=fruit_vegetable+('needle murshroom',\"yoghourt\",)\n",
    "print(food_tuple)"
   ]
  },
  {
   "cell_type": "code",
   "execution_count": 9,
   "id": "94bead76",
   "metadata": {},
   "outputs": [
    {
     "name": "stdout",
     "output_type": "stream",
     "text": [
      "needle murshroom yoghourt\n"
     ]
    }
   ],
   "source": [
    "(a,b,c,d,e,f,g,h,i,j)=food_tuple\n",
    "print(i,j)"
   ]
  },
  {
   "cell_type": "code",
   "execution_count": 10,
   "id": "17e357c5",
   "metadata": {},
   "outputs": [
    {
     "name": "stdout",
     "output_type": "stream",
     "text": [
      "('avocado', 'passion fruit')\n",
      "['broccoli', 'avocado', 'kiwi']\n",
      "['lettuce', 'broccoli', 'spinach', 'shallot']\n",
      "['tangerine', 'kiwi', 'needle murshroom']\n"
     ]
    }
   ],
   "source": [
    "food_list=list(food_tuple)\n",
    "i=food_tuple[4:6]\n",
    "print(i)\n",
    "j=food_list[1:8:3]\n",
    "print(j)\n",
    "k=food_list[:4]\n",
    "l=food_list[-4:-1]\n",
    "print(k)\n",
    "print(l)"
   ]
  },
  {
   "cell_type": "code",
   "execution_count": 11,
   "id": "489fa38e",
   "metadata": {},
   "outputs": [
    {
     "name": "stdout",
     "output_type": "stream",
     "text": [
      "tuple has been deleted\n",
      "False\n",
      "True\n"
     ]
    }
   ],
   "source": [
    "del food_tuple\n",
    "try :\n",
    "    print(food_tuple)\n",
    "except NameError:\n",
    "    print('tuple has been deleted')\n",
    "\n",
    "asian_countries = 'India','China','Singapore','Thailand','Indonesia'\n",
    "m='Finland'in asian_countries\n",
    "n='India'in asian_countries\n",
    "print(m)\n",
    "print(n)"
   ]
  },
  {
   "cell_type": "code",
   "execution_count": 12,
   "id": "384e2da7",
   "metadata": {},
   "outputs": [
    {
     "name": "stdout",
     "output_type": "stream",
     "text": [
      "False\n",
      "True\n"
     ]
    }
   ],
   "source": [
    "asian_countries = 'India','China','Singapore','Thailand','Indonesia'\n",
    "m='Finland'in asian_countries\n",
    "n='India'in asian_countries\n",
    "print(m)\n",
    "print(n)"
   ]
  },
  {
   "cell_type": "code",
   "execution_count": null,
   "id": "a3f61ba0",
   "metadata": {},
   "outputs": [],
   "source": []
  }
 ],
 "metadata": {
  "kernelspec": {
   "display_name": "Python 3 (ipykernel)",
   "language": "python",
   "name": "python3"
  },
  "language_info": {
   "codemirror_mode": {
    "name": "ipython",
    "version": 3
   },
   "file_extension": ".py",
   "mimetype": "text/x-python",
   "name": "python",
   "nbconvert_exporter": "python",
   "pygments_lexer": "ipython3",
   "version": "3.9.7"
  }
 },
 "nbformat": 4,
 "nbformat_minor": 5
}
