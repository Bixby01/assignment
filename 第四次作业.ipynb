{
 "cells": [
  {
   "cell_type": "code",
   "execution_count": 5,
   "id": "5fee77d8",
   "metadata": {},
   "outputs": [
    {
     "name": "stdout",
     "output_type": "stream",
     "text": [
      "0\n",
      "1\n",
      "2\n",
      "3\n",
      "4\n",
      "5\n",
      "6\n",
      "7\n",
      "8\n",
      "9\n",
      "10\n"
     ]
    }
   ],
   "source": [
    "#Iterate 0 to 10 using for loop, do the same using while loop.\n",
    "sum=0\n",
    "for num in range(11):\n",
    "    print(num)"
   ]
  },
  {
   "cell_type": "code",
   "execution_count": 18,
   "id": "e5876feb",
   "metadata": {},
   "outputs": [
    {
     "name": "stdout",
     "output_type": "stream",
     "text": [
      "The i is: 0\n",
      "The i is: 1\n",
      "The i is: 2\n",
      "The i is: 3\n",
      "The i is: 4\n",
      "The i is: 5\n",
      "The i is: 6\n",
      "The i is: 7\n",
      "The i is: 8\n",
      "The i is: 9\n",
      "The i is: 10\n"
     ]
    }
   ],
   "source": [
    "i = 0\n",
    "while (i < 11):\n",
    "    print  (\"The i is:\" ,i)\n",
    "    i= i+ 1"
   ]
  },
  {
   "cell_type": "code",
   "execution_count": 68,
   "id": "5ce3d527",
   "metadata": {},
   "outputs": [
    {
     "name": "stdout",
     "output_type": "stream",
     "text": [
      "10\n",
      "9\n",
      "8\n",
      "7\n",
      "6\n",
      "5\n",
      "4\n",
      "3\n",
      "2\n",
      "1\n"
     ]
    }
   ],
   "source": [
    "#Iterate 10 to 0 using for loop, do the same using while loop.\n",
    "sum=10\n",
    "num=(11,10,9,8,7,6,5,4,3,2,1)\n",
    "for sum in num:\n",
    "    sum=sum-1\n",
    "    if sum ==0:\n",
    "        break\n",
    "    else:\n",
    "        print(sum)"
   ]
  },
  {
   "cell_type": "code",
   "execution_count": 53,
   "id": "e37c78af",
   "metadata": {},
   "outputs": [
    {
     "name": "stdout",
     "output_type": "stream",
     "text": [
      "The i is: 10\n",
      "The i is: 9\n",
      "The i is: 8\n",
      "The i is: 7\n",
      "The i is: 6\n",
      "The i is: 5\n",
      "The i is: 4\n",
      "The i is: 3\n",
      "The i is: 2\n",
      "The i is: 1\n",
      "The i is: 0\n"
     ]
    }
   ],
   "source": [
    "i =11\n",
    "while (i >0):\n",
    "    i= i- 1\n",
    "    print  (\"The i is:\" ,i)"
   ]
  },
  {
   "cell_type": "code",
   "execution_count": 77,
   "id": "0e1c39bb",
   "metadata": {},
   "outputs": [
    {
     "name": "stdout",
     "output_type": "stream",
     "text": [
      "####### \n",
      "####### \n",
      "####### \n",
      "####### \n",
      "####### \n",
      "####### \n",
      "####### \n",
      "####### \n"
     ]
    }
   ],
   "source": [
    "#Write a loop that makes seven calls to print()\n",
    "rows = 8\n",
    "for i in range(1, rows + 1):\n",
    "            print(\"#######\", end=\" \")\n",
    "            print('')"
   ]
  },
  {
   "cell_type": "code",
   "execution_count": 83,
   "id": "1745c9df",
   "metadata": {},
   "outputs": [
    {
     "name": "stdout",
     "output_type": "stream",
     "text": [
      "            # \n",
      "\n",
      "          # # # \n",
      "\n",
      "        # # # # # \n",
      "\n",
      "      # # # # # # # \n",
      "\n",
      "    # # # # # # # # # \n",
      "\n",
      "  # # # # # # # # # # # \n",
      "\n",
      "# # # # # # # # # # # # # \n",
      "\n"
     ]
    }
   ],
   "source": [
    "#Use nested loops to create the following\n",
    "rows = 7\n",
    "for i in range(1, rows + 1):       \n",
    "    for j in range(7-i):  \n",
    "        print(\" \", end=\" \")\n",
    "    for j in range(1, 2*i):   \n",
    "        print(\"#\", end=\" \")\n",
    "    print('\\n')"
   ]
  },
  {
   "cell_type": "code",
   "execution_count": 89,
   "id": "404ed568",
   "metadata": {},
   "outputs": [
    {
     "name": "stdout",
     "output_type": "stream",
     "text": [
      "0 * 0 =  0\n",
      "1 * 1 =  1\n",
      "2 * 2 =  4\n",
      "3 * 3 =  9\n",
      "4 * 4 =  16\n",
      "5 * 5 =  25\n",
      "6 * 6 =  36\n",
      "7 * 7 =  49\n",
      "8 * 8 =  64\n",
      "9 * 9 =  81\n",
      "10 * 10 =  100\n"
     ]
    }
   ],
   "source": [
    "#Print the following pattern using loops\n",
    "\n",
    "digits1 = [0,1,2,3,4,5,6,7,8,9,10]\n",
    "digits2 = [0,1,2,3,4,5,6,7,8,9,10]\n",
    "for i in digits1:\n",
    "    for j in digits2:\n",
    "        if i != j:\n",
    "            continue\n",
    "        print(i, '*', j, '= ', i * j)"
   ]
  },
  {
   "cell_type": "code",
   "execution_count": 91,
   "id": "4baf4cf6",
   "metadata": {},
   "outputs": [
    {
     "name": "stdout",
     "output_type": "stream",
     "text": [
      "Python\n",
      "Numpy\n",
      "Pandas\n",
      "Scikit\n",
      "Pytorch\n"
     ]
    }
   ],
   "source": [
    "#Iterate through the list, ['Python', 'Numpy','Pandas','Scikit', 'Pytorch'] using a for loop and print out the items.\n",
    "list=['Python', 'Numpy','Pandas','Scikit', 'Pytorch']\n",
    "for key in list:\n",
    "    print(key)"
   ]
  },
  {
   "cell_type": "code",
   "execution_count": 106,
   "id": "302ab238",
   "metadata": {},
   "outputs": [
    {
     "name": "stdout",
     "output_type": "stream",
     "text": [
      "2\n",
      "4\n",
      "6\n",
      "8\n",
      "10\n",
      "12\n",
      "14\n",
      "16\n",
      "18\n",
      "20\n",
      "22\n",
      "24\n",
      "26\n",
      "28\n",
      "30\n",
      "32\n",
      "34\n",
      "36\n",
      "38\n",
      "40\n",
      "42\n",
      "44\n",
      "46\n",
      "48\n",
      "50\n",
      "52\n",
      "54\n",
      "56\n",
      "58\n",
      "60\n",
      "62\n",
      "64\n",
      "66\n",
      "68\n",
      "70\n",
      "72\n",
      "74\n",
      "76\n",
      "78\n",
      "80\n",
      "82\n",
      "84\n",
      "86\n",
      "88\n",
      "90\n",
      "92\n",
      "94\n",
      "96\n",
      "98\n",
      "100\n"
     ]
    }
   ],
   "source": [
    "#Use for loop to iterate from 0 to 100 and print only even numbers\n",
    "i=0\n",
    "for i in range(0,101):         \n",
    "        i=i+1\n",
    "        if i%2 !=1:            \n",
    "            print(i)    "
   ]
  },
  {
   "cell_type": "code",
   "execution_count": 105,
   "id": "939a57a1",
   "metadata": {},
   "outputs": [
    {
     "name": "stdout",
     "output_type": "stream",
     "text": [
      "1\n",
      "3\n",
      "5\n",
      "7\n",
      "9\n",
      "11\n",
      "13\n",
      "15\n",
      "17\n",
      "19\n",
      "21\n",
      "23\n",
      "25\n",
      "27\n",
      "29\n",
      "31\n",
      "33\n",
      "35\n",
      "37\n",
      "39\n",
      "41\n",
      "43\n",
      "45\n",
      "47\n",
      "49\n",
      "51\n",
      "53\n",
      "55\n",
      "57\n",
      "59\n",
      "61\n",
      "63\n",
      "65\n",
      "67\n",
      "69\n",
      "71\n",
      "73\n",
      "75\n",
      "77\n",
      "79\n",
      "81\n",
      "83\n",
      "85\n",
      "87\n",
      "89\n",
      "91\n",
      "93\n",
      "95\n",
      "97\n",
      "99\n",
      "101\n"
     ]
    }
   ],
   "source": [
    "#Use for loop to iterate from 0 to 100 and print only odd numbers\n",
    "i=0\n",
    "for i in range(0,101):         \n",
    "        i=i+1\n",
    "        if i%2 ==1:            \n",
    "            print(i)    "
   ]
  },
  {
   "cell_type": "code",
   "execution_count": 125,
   "id": "e053f643",
   "metadata": {},
   "outputs": [
    {
     "name": "stdout",
     "output_type": "stream",
     "text": [
      "The total number is: 5050\n"
     ]
    }
   ],
   "source": [
    "#use for loop to iterate from 0 to 100 and print the sum of all numbers.\n",
    "#The sum of all numbers is 5050.\n",
    "sum=0\n",
    "for i in range(0,101):         \n",
    "       sum+=i\n",
    "print(\"The total number is:\",sum) "
   ]
  },
  {
   "cell_type": "code",
   "execution_count": 130,
   "id": "1bb370f4",
   "metadata": {},
   "outputs": [
    {
     "name": "stdout",
     "output_type": "stream",
     "text": [
      "sum_even: 2500\n",
      "sum_odd: 2550\n"
     ]
    }
   ],
   "source": [
    "#Use for loop to iterate from 0 to 100 and print the sum of all evens and the sum of all odds.\n",
    "#The sum of all evens is 2550. And the sum of all odds is 2500.\n",
    "sum_even=0\n",
    "sum_odd=0\n",
    "for i in range(0,100):\n",
    "        i=i+1\n",
    "        if i%2 ==1:            \n",
    "            sum_even+=i\n",
    "        else:\n",
    "            sum_odd+=i\n",
    "print(\"sum_even:\",sum_even)    \n",
    "print(\"sum_odd:\",sum_odd) "
   ]
  },
  {
   "cell_type": "code",
   "execution_count": 1,
   "id": "cffa2a22",
   "metadata": {},
   "outputs": [
    {
     "name": "stdout",
     "output_type": "stream",
     "text": [
      "Finland\n",
      "Iceland\n",
      "Ireland\n",
      "Marshall Islands\n",
      "Netherlands\n",
      "New Zealand\n",
      "Poland\n",
      "Solomon Islands\n",
      "Swaziland\n",
      "Switzerland\n",
      "Thailand\n"
     ]
    }
   ],
   "source": [
    "#Go to the data folder and use the countries.py file. Loop through the countries and extract all the countries containing the word land.\n",
    "countries = [\n",
    "  'Afghanistan',\n",
    "  'Albania',\n",
    "  'Algeria',\n",
    "  'Andorra',\n",
    "  'Angola',\n",
    "  'Antigua and Barbuda',\n",
    "  'Argentina',\n",
    "  'Armenia',\n",
    "  'Australia',\n",
    "  'Austria',\n",
    "  'Azerbaijan',\n",
    "  'Bahamas',\n",
    "  'Bahrain',\n",
    "  'Bangladesh',\n",
    "  'Barbados',\n",
    "  'Belarus',\n",
    "  'Belgium',\n",
    "  'Belize',\n",
    "  'Benin',\n",
    "  'Bhutan',\n",
    "  'Bolivia',\n",
    "  'Bosnia and Herzegovina',\n",
    "  'Botswana',\n",
    "  'Brazil',\n",
    "  'Brunei',\n",
    "  'Bulgaria',\n",
    "  'Burkina Faso',\n",
    "  'Burundi',\n",
    "  'Cambodia',\n",
    "  'Cameroon',\n",
    "  'Canada',\n",
    "  'Cape Verde',\n",
    "  'Central African Republic',\n",
    "  'Chad',\n",
    "  'Chile',\n",
    "  'China',\n",
    "  'Colombi',\n",
    "  'Comoros',\n",
    "  'Congo (Brazzaville)',\n",
    "  'Congo',\n",
    "  'Costa Rica',\n",
    "  \"Cote d'Ivoire\",\n",
    "  'Croatia',\n",
    "  'Cuba',\n",
    "  'Cyprus',\n",
    "  'Czech Republic',\n",
    "  'Denmark',\n",
    "  'Djibouti',\n",
    "  'Dominica',\n",
    "  'Dominican Republic',\n",
    "  'East Timor (Timor Timur)',\n",
    "  'Ecuador',\n",
    "  'Egypt',\n",
    "  'El Salvador',\n",
    "  'Equatorial Guinea',\n",
    "  'Eritrea',\n",
    "  'Estonia',\n",
    "  'Ethiopia',\n",
    "  'Fiji',\n",
    "  'Finland',\n",
    "  'France',\n",
    "  'Gabon',\n",
    "  'Gambia, The',\n",
    "  'Georgia',\n",
    "  'Germany',\n",
    "  'Ghana',\n",
    "  'Greece',\n",
    "  'Grenada',\n",
    "  'Guatemala',\n",
    "  'Guinea',\n",
    "  'Guinea-Bissau',\n",
    "  'Guyana',\n",
    "  'Haiti',\n",
    "  'Honduras',\n",
    "  'Hungary',\n",
    "  'Iceland',\n",
    "  'India',\n",
    "  'Indonesia',\n",
    "  'Iran',\n",
    "  'Iraq',\n",
    "  'Ireland',\n",
    "  'Israel',\n",
    "  'Italy',\n",
    "  'Jamaica',\n",
    "  'Japan',\n",
    "  'Jordan',\n",
    "  'Kazakhstan',\n",
    "  'Kenya',\n",
    "  'Kiribati',\n",
    "  'Korea, North',\n",
    "  'Korea, South',\n",
    "  'Kuwait',\n",
    "  'Kyrgyzstan',\n",
    "  'Laos',\n",
    "  'Latvia',\n",
    "  'Lebanon',\n",
    "  'Lesotho',\n",
    "  'Liberia',\n",
    "  'Libya',\n",
    "  'Liechtenstein',\n",
    "  'Lithuania',\n",
    "  'Luxembourg',\n",
    "  'Macedonia',\n",
    "  'Madagascar',\n",
    "  'Malawi',\n",
    "  'Malaysia',\n",
    "  'Maldives',\n",
    "  'Mali',\n",
    "  'Malta',\n",
    "  'Marshall Islands',\n",
    "  'Mauritania',\n",
    "  'Mauritius',\n",
    "  'Mexico',\n",
    "  'Micronesia',\n",
    "  'Moldova',\n",
    "  'Monaco',\n",
    "  'Mongolia',\n",
    "  'Morocco',\n",
    "  'Mozambique',\n",
    "  'Myanmar',\n",
    "  'Namibia',\n",
    "  'Nauru',\n",
    "  'Nepal',\n",
    "  'Netherlands',\n",
    "  'New Zealand',\n",
    "  'Nicaragua',\n",
    "  'Niger',\n",
    "  'Nigeria',\n",
    "  'Norway',\n",
    "  'Oman',\n",
    "  'Pakistan',\n",
    "  'Palau',\n",
    "  'Panama',\n",
    "  'Papua New Guinea',\n",
    "  'Paraguay',\n",
    "  'Peru',\n",
    "  'Philippines',\n",
    "  'Poland',\n",
    "  'Portugal',\n",
    "  'Qatar',\n",
    "  'Romania',\n",
    "  'Russia',\n",
    "  'Rwanda',\n",
    "  'Saint Kitts and Nevis',\n",
    "  'Saint Lucia',\n",
    "  'Saint Vincent',\n",
    "  'Samoa',\n",
    "  'San Marino',\n",
    "  'Sao Tome and Principe',\n",
    "  'Saudi Arabia',\n",
    "  'Senegal',\n",
    "  'Serbia and Montenegro',\n",
    "  'Seychelles',\n",
    "  'Sierra Leone',\n",
    "  'Singapore',\n",
    "  'Slovakia',\n",
    "  'Slovenia',\n",
    "  'Solomon Islands',\n",
    "  'Somalia',\n",
    "  'South Africa',\n",
    "  'Spain',\n",
    "  'Sri Lanka',\n",
    "  'Sudan',\n",
    "  'Suriname',\n",
    "  'Swaziland',\n",
    "  'Sweden',\n",
    "  'Switzerland',\n",
    "  'Syria',\n",
    "  'Taiwan',\n",
    "  'Tajikistan',\n",
    "  'Tanzania',\n",
    "  'Thailand',\n",
    "  'Togo',\n",
    "  'Tonga',\n",
    "  'Trinidad and Tobago',\n",
    "  'Tunisia',\n",
    "  'Turkey',\n",
    "  'Turkmenistan',\n",
    "  'Tuvalu',\n",
    "  'Uganda',\n",
    "  'Ukraine',\n",
    "  'United Arab Emirates',\n",
    "  'United Kingdom',\n",
    "  'United States',\n",
    "  'Uruguay',\n",
    "  'Uzbekistan',\n",
    "  'Vanuatu',\n",
    "  'Vatican City',\n",
    "  'Venezuela',\n",
    "  'Vietnam',\n",
    "  'Yemen',\n",
    "  'Zambia',\n",
    "  'Zimbabwe',\n",
    "];\n",
    "target = \"land\"\n",
    "for word in countries:\n",
    "    if target in word:\n",
    "        print(word)"
   ]
  },
  {
   "cell_type": "code",
   "execution_count": 131,
   "id": "04753f1f",
   "metadata": {},
   "outputs": [
    {
     "name": "stdout",
     "output_type": "stream",
     "text": [
      "lemon\n",
      "mango\n",
      "orange\n",
      "banana\n"
     ]
    }
   ],
   "source": [
    "#This is a fruit list, ['banana', 'orange', 'mango', 'lemon'] reverse the order using loop.\n",
    "list1 = ['banana', 'orange', 'mango', 'lemon']\n",
    "for num in reversed(list1):\n",
    "    print(num)"
   ]
  },
  {
   "cell_type": "code",
   "execution_count": null,
   "id": "c779e09a",
   "metadata": {},
   "outputs": [],
   "source": []
  },
  {
   "cell_type": "code",
   "execution_count": null,
   "id": "c3192a35",
   "metadata": {},
   "outputs": [],
   "source": []
  },
  {
   "cell_type": "code",
   "execution_count": null,
   "id": "7bc7fa20",
   "metadata": {},
   "outputs": [],
   "source": []
  }
 ],
 "metadata": {
  "kernelspec": {
   "display_name": "Python 3 (ipykernel)",
   "language": "python",
   "name": "python3"
  },
  "language_info": {
   "codemirror_mode": {
    "name": "ipython",
    "version": 3
   },
   "file_extension": ".py",
   "mimetype": "text/x-python",
   "name": "python",
   "nbconvert_exporter": "python",
   "pygments_lexer": "ipython3",
   "version": "3.9.7"
  }
 },
 "nbformat": 4,
 "nbformat_minor": 5
}
